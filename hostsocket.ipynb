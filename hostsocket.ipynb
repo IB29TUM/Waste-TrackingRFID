{
 "cells": [
  {
   "cell_type": "code",
   "execution_count": 1,
   "metadata": {},
   "outputs": [
    {
     "name": "stdout",
     "output_type": "stream",
     "text": [
      "Connected to 169.254.148.176 on port 2112\n",
      "Received data: 3000E2801191A5030065B8378F963000E2801191A5030065B8372AD6\n",
      "Received data: 3000E2801191A5030065B837B4263000E2801191A5030065B837C016\n",
      "Received data: 3000E2801191A5030065B837B4E6\n",
      "Received data: 3000E2801191A5030065B837B446\n",
      "Received data: 3000E2801191A5030065B8372AB6\n",
      "Received data: 3000E2801191A5030065B8372AA63000E2801191A5030065B8378F76\n"
     ]
    }
   ],
   "source": [
    "import socket\n",
    "\n",
    "# The IP address of the device to connect to\n",
    "DEVICE_IP = '169.254.148.176'  # Device's IP address\n",
    "PORT = 2112  # The port the device is listening on\n",
    "\n",
    "# Create a socket object using IPv4 and TCP protocol\n",
    "client_socket = socket.socket(socket.AF_INET, socket.SOCK_STREAM)\n",
    "\n",
    "# Connect the socket to the device's IP address and port\n",
    "client_socket.connect((DEVICE_IP, PORT))\n",
    "\n",
    "print(f\"Connected to {DEVICE_IP} on port {PORT}\")\n",
    "\n",
    "# Mapping of specific hexadecimal strings to their corresponding outputs\n",
    "hex_string_mappings = {\n",
    "    \"3400476C61737320202020202020\": \"Glass\",\n",
    "    \"3400436F6C6120424F54544C4520\": \"CocaCola Bottle\",\n",
    "    \"3400426F78202020202020202020\": \"Box\",\n",
    "    \"3000E2801191A5030065B837C026\":\"Power Adapter\"\n",
    "    \n",
    "    \n",
    "    \n",
    "}\n",
    "\n",
    "# Receive data from the device\n",
    "try:\n",
    "    while True:\n",
    "        data = client_socket.recv(1024)\n",
    "        if not data:\n",
    "            break\n",
    "\n",
    "        # Decode the received data and remove specific characters\n",
    "        decoded_data = data.decode('utf-8')\n",
    "        cleaned_data = decoded_data.replace('\\x02', '').replace('\\x03', '').strip()\n",
    "\n",
    "        # Check if the cleaned data matches any key in the dictionary\n",
    "        if cleaned_data in hex_string_mappings:\n",
    "            print(hex_string_mappings[cleaned_data])\n",
    "        else:\n",
    "            # Display the cleaned data\n",
    "            print(f\"Received data: {cleaned_data}\")\n",
    "            \n",
    "except Exception as e:\n",
    "    print(f\"Error: {e}\")\n",
    "finally:\n",
    "    # Close the connection\n",
    "    client_socket.close()\n",
    "    print(\"Connection closed.\")\n"
   ]
  },
  {
   "cell_type": "code",
   "execution_count": null,
   "metadata": {},
   "outputs": [],
   "source": [
    "import socket\n",
    "\n",
    "# Set the server IP and port\n",
    "SERVER_IP = '127.0.0.1'  # Replace with the server's IP address if not on the same machine\n",
    "SERVER_PORT = 2112\n",
    "\n",
    "# Create a socket object using IPv4 and TCP protocol\n",
    "client_socket = socket.socket(socket.AF_INET, socket.SOCK_STREAM)\n",
    "\n",
    "# Connect to the server\n",
    "client_socket.connect((SERVER_IP, SERVER_PORT))\n",
    "\n",
    "# Send some data\n",
    "client_socket.sendall(b\"Hello, server!\")\n",
    "\n",
    "# Close the connection\n",
    "client_socket.close()\n"
   ]
  }
 ],
 "metadata": {
  "kernelspec": {
   "display_name": "Python 3",
   "language": "python",
   "name": "python3"
  },
  "language_info": {
   "codemirror_mode": {
    "name": "ipython",
    "version": 3
   },
   "file_extension": ".py",
   "mimetype": "text/x-python",
   "name": "python",
   "nbconvert_exporter": "python",
   "pygments_lexer": "ipython3",
   "version": "3.10.11"
  }
 },
 "nbformat": 4,
 "nbformat_minor": 2
}
